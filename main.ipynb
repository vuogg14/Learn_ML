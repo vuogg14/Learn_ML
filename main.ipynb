{
 "cells": [
  {
   "cell_type": "code",
   "execution_count": 1,
   "metadata": {},
   "outputs": [
    {
     "name": "stdout",
     "output_type": "stream",
     "text": [
      "Vay: 3,786,784,723.00 Đồng\n",
      "Lãi suất: 0.12%/tháng\n",
      "Trong: 6.00 tháng\n",
      "Mỗi tháng cần trả: 921,043,434.771 Đồng\n"
     ]
    }
   ],
   "source": [
    "\n",
    "def loan(A, r, n):\n",
    "    X = (A*(1+r)**n*r) / ((1+r)**n - 1)\n",
    "    print(\"Vay: {:,.2f} Đồng\".format(A))\n",
    "    print(\"Lãi suất: {:,.2f}%/tháng\".format(r))\n",
    "    print(\"Trong: {:,.2f} tháng\".format(n))\n",
    "    print(\"Mỗi tháng cần trả: {:,.3f} Đồng\".format(X))\n",
    "\n",
    "loan(3786784723, 0.12, 6)\n"
   ]
  },
  {
   "cell_type": "code",
   "execution_count": 2,
   "metadata": {},
   "outputs": [
    {
     "data": {
      "text/plain": [
       "4"
      ]
     },
     "execution_count": 2,
     "metadata": {},
     "output_type": "execute_result"
    }
   ],
   "source": [
    "a = [1,1,1,1]\n",
    "len(a)"
   ]
  },
  {
   "cell_type": "code",
   "execution_count": 3,
   "metadata": {},
   "outputs": [
    {
     "data": {
      "text/plain": [
       "'2x5'"
      ]
     },
     "execution_count": 3,
     "metadata": {},
     "output_type": "execute_result"
    }
   ],
   "source": [
    "def parse(n):\n",
    "    factors = []\n",
    "    my_str = \"\"\n",
    "    i = 2  \n",
    "    while i * i <= n:  \n",
    "        while n % i == 0:  \n",
    "            factors.append(i)\n",
    "            n //= i  \n",
    "        i += 1\n",
    "    if n > 1:  \n",
    "        factors.append(n)\n",
    "    \n",
    "    for i in range(len(factors)):\n",
    "        if i == len(factors) - 1:\n",
    "            my_str += str(factors[i])            \n",
    "        else:\n",
    "            my_str += str(factors[i]) + \"x\"\n",
    "        \n",
    "    return my_str\n",
    "parse(10)\n",
    "            "
   ]
  },
  {
   "cell_type": "code",
   "execution_count": null,
   "metadata": {},
   "outputs": [],
   "source": [
    "\n"
   ]
  },
  {
   "cell_type": "code",
   "execution_count": 4,
   "metadata": {},
   "outputs": [
    {
     "data": {
      "text/plain": [
       "'1010'"
      ]
     },
     "execution_count": 4,
     "metadata": {},
     "output_type": "execute_result"
    }
   ],
   "source": [
    "def convert(n):\n",
    "    binary = \"\"\n",
    "    \n",
    "    while n / 2 != 0:\n",
    "        binary = str(n%2) + binary\n",
    "        n = int(n/2)\n",
    "    return binary\n",
    "\n",
    "convert(10)"
   ]
  },
  {
   "cell_type": "code",
   "execution_count": 5,
   "metadata": {},
   "outputs": [
    {
     "data": {
      "text/plain": [
       "19"
      ]
     },
     "execution_count": 5,
     "metadata": {},
     "output_type": "execute_result"
    }
   ],
   "source": [
    "def convert_B2D(n):\n",
    "    decimal = 0\n",
    "    for i in range(len(n) -1, -1 , -1):\n",
    "        if n[i] == \"0\":\n",
    "            continue\n",
    "        power = len(n) - i - 1\n",
    "        decimal += 2 ** power\n",
    "    \n",
    "    return decimal\n",
    "\n",
    "convert_B2D(\"10011\")"
   ]
  },
  {
   "cell_type": "code",
   "execution_count": 6,
   "metadata": {},
   "outputs": [],
   "source": [
    "a = \"1234\"\n",
    "a = [int(i) for i in a]\n"
   ]
  },
  {
   "cell_type": "code",
   "execution_count": 9,
   "metadata": {},
   "outputs": [
    {
     "data": {
      "text/plain": [
       "'11111'"
      ]
     },
     "execution_count": 9,
     "metadata": {},
     "output_type": "execute_result"
    }
   ],
   "source": [
    "\n",
    "def add(a,b):\n",
    "    size = max(len(a), len(b))\n",
    "    a = a.zfill(size)\n",
    "    b = b.zfill(size)\n",
    "\n",
    "    a = [int(i) for i in a]\n",
    "    b = [int(i) for i in b]\n",
    "    result = \"\"\n",
    "    for i in range(size - 1, -1, -1):\n",
    "        if a[i] + b[i] == 1:\n",
    "            result = \"1\" + result\n",
    "        elif a[i] + b[i] == 0:\n",
    "            result = \"0\" + result\n",
    "        else:\n",
    "            k = (a[i] + b[i]) % 2 \n",
    "            result = str(k) + result \n",
    "            if(i == 0):\n",
    "                result = \"1\"  + result \n",
    "            else:\n",
    "                b[i - 1] += 1\n",
    "    \n",
    "    return result\n",
    "\n",
    "add(\"000\",\"11111\")"
   ]
  },
  {
   "cell_type": "code",
   "execution_count": 6,
   "metadata": {},
   "outputs": [
    {
     "data": {
      "text/plain": [
       "[['*', ' ', ' ', ' ', ' '],\n",
       " ['*', '*', ' ', ' ', ' '],\n",
       " ['*', '*', '*', ' ', ' '],\n",
       " ['*', '*', '*', '*', ' '],\n",
       " ['*', '*', '*', '*', '*']]"
      ]
     },
     "execution_count": 6,
     "metadata": {},
     "output_type": "execute_result"
    }
   ],
   "source": [
    "matrix_list = [[\"*\" for _ in range(5)] for _ in range(5)] \n",
    "\n",
    "for i in range(len(matrix_list)):\n",
    "    for j in range(len(matrix_list[0])):\n",
    "        if i < j :\n",
    "            matrix_list[i][j] = \" \"\n",
    "\n",
    "matrix_list"
   ]
  },
  {
   "cell_type": "code",
   "execution_count": null,
   "metadata": {},
   "outputs": [],
   "source": []
  }
 ],
 "metadata": {
  "kernelspec": {
   "display_name": "newbase",
   "language": "python",
   "name": "python3"
  },
  "language_info": {
   "codemirror_mode": {
    "name": "ipython",
    "version": 3
   },
   "file_extension": ".py",
   "mimetype": "text/x-python",
   "name": "python",
   "nbconvert_exporter": "python",
   "pygments_lexer": "ipython3",
   "version": "3.11.10"
  }
 },
 "nbformat": 4,
 "nbformat_minor": 2
}
